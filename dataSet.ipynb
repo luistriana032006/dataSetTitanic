{
 "cells": [
  {
   "cell_type": "markdown",
   "id": "180e9d1f",
   "metadata": {},
   "source": [
    "# data set Titanic\n"
   ]
  },
  {
   "cell_type": "markdown",
   "id": "e39cde32",
   "metadata": {},
   "source": [
    "## importamos las librerias necesarias para el data set "
   ]
  },
  {
   "cell_type": "code",
   "execution_count": 703,
   "id": "1c91c7ac",
   "metadata": {},
   "outputs": [],
   "source": [
    "import pandas as pd\n",
    "import numpy as np\n",
    "from sklearn.preprocessing import StandardScaler\n",
    "# Herramientas de preprocesamiento de Scikit-learn\n",
    "from sklearn.pipeline import Pipeline\n",
    "from sklearn.impute import SimpleImputer\n",
    "from sklearn.preprocessing import StandardScaler, OneHotEncoder\n",
    "from sklearn.compose import ColumnTransformer"
   ]
  },
  {
   "cell_type": "markdown",
   "id": "6c4e5b2f",
   "metadata": {},
   "source": [
    "## 1. analisis inicial "
   ]
  },
  {
   "cell_type": "markdown",
   "id": "93035168",
   "metadata": {},
   "source": [
    "### leemos el archivo csv train.csv\n"
   ]
  },
  {
   "cell_type": "code",
   "execution_count": 704,
   "id": "3849f805",
   "metadata": {},
   "outputs": [],
   "source": [
    "# data set cargado en crudo\n",
    "df_raw= pd.read_csv('train.csv')\n",
    "\n",
    "# data set copia para editarlo\n",
    "\n",
    "df_procesado = df_raw.copy()"
   ]
  },
  {
   "cell_type": "markdown",
   "id": "f4fa00b5",
   "metadata": {},
   "source": [
    "### mostramos las dimensiones del data set\n"
   ]
  },
  {
   "cell_type": "code",
   "execution_count": 705,
   "id": "51fb94d0",
   "metadata": {},
   "outputs": [
    {
     "name": "stdout",
     "output_type": "stream",
     "text": [
      "<class 'pandas.core.frame.DataFrame'>\n",
      "RangeIndex: 891 entries, 0 to 890\n",
      "Data columns (total 12 columns):\n",
      " #   Column       Non-Null Count  Dtype  \n",
      "---  ------       --------------  -----  \n",
      " 0   PassengerId  891 non-null    int64  \n",
      " 1   Survived     891 non-null    int64  \n",
      " 2   Pclass       891 non-null    int64  \n",
      " 3   Name         891 non-null    object \n",
      " 4   Sex          891 non-null    object \n",
      " 5   Age          714 non-null    float64\n",
      " 6   SibSp        891 non-null    int64  \n",
      " 7   Parch        891 non-null    int64  \n",
      " 8   Ticket       891 non-null    object \n",
      " 9   Fare         891 non-null    float64\n",
      " 10  Cabin        204 non-null    object \n",
      " 11  Embarked     889 non-null    object \n",
      "dtypes: float64(2), int64(5), object(5)\n",
      "memory usage: 83.7+ KB\n"
     ]
    }
   ],
   "source": [
    "df_procesado.info()\n"
   ]
  },
  {
   "cell_type": "markdown",
   "id": "76bb5daf",
   "metadata": {},
   "source": [
    "### df.info()\n",
    "\n",
    "despues de ejecutar el df.info() obtuvimos la siguiente información \n",
    "tenemos 12 columnas las cuales estan dividas en: id del pasajero, sobrevivido, clase en la que estaba (clase siendo referencia a la clase social en la que se estaba alojando el tripulante), que edad tenia, si viajaba con un acompañante o no, el numero de ticket, el puerto de embarque, tarifa, sexo, nombre, cuantos padres o hijos viajaban en la embarcacion."
   ]
  },
  {
   "cell_type": "markdown",
   "id": "05d7c3db",
   "metadata": {},
   "source": [
    "### ¿cuantos datos nulos tenemos?"
   ]
  },
  {
   "cell_type": "code",
   "execution_count": 706,
   "id": "6c47df95",
   "metadata": {},
   "outputs": [
    {
     "data": {
      "text/plain": [
       "PassengerId      0\n",
       "Survived         0\n",
       "Pclass           0\n",
       "Name             0\n",
       "Sex              0\n",
       "Age            177\n",
       "SibSp            0\n",
       "Parch            0\n",
       "Ticket           0\n",
       "Fare             0\n",
       "Cabin          687\n",
       "Embarked         2\n",
       "dtype: int64"
      ]
     },
     "execution_count": 706,
     "metadata": {},
     "output_type": "execute_result"
    }
   ],
   "source": [
    "df_procesado.isnull().sum()"
   ]
  },
  {
   "cell_type": "markdown",
   "id": "6e6a3be8",
   "metadata": {},
   "source": [
    "en las casillas donde se muestran datos vacios son las siguientes: \n",
    "1. Age con 177 datos nulos \n",
    "2. cabin con 687 datos nulos\n",
    "3. embarked con 2 datos nulos"
   ]
  },
  {
   "cell_type": "markdown",
   "id": "af0a0b86",
   "metadata": {},
   "source": [
    "### df.head\n",
    "\n",
    "con df.head() nos muestra los primeros 5 registros del data set "
   ]
  },
  {
   "cell_type": "code",
   "execution_count": 707,
   "id": "6f94b1eb",
   "metadata": {},
   "outputs": [
    {
     "data": {
      "text/html": [
       "<div>\n",
       "<style scoped>\n",
       "    .dataframe tbody tr th:only-of-type {\n",
       "        vertical-align: middle;\n",
       "    }\n",
       "\n",
       "    .dataframe tbody tr th {\n",
       "        vertical-align: top;\n",
       "    }\n",
       "\n",
       "    .dataframe thead th {\n",
       "        text-align: right;\n",
       "    }\n",
       "</style>\n",
       "<table border=\"1\" class=\"dataframe\">\n",
       "  <thead>\n",
       "    <tr style=\"text-align: right;\">\n",
       "      <th></th>\n",
       "      <th>PassengerId</th>\n",
       "      <th>Survived</th>\n",
       "      <th>Pclass</th>\n",
       "      <th>Name</th>\n",
       "      <th>Sex</th>\n",
       "      <th>Age</th>\n",
       "      <th>SibSp</th>\n",
       "      <th>Parch</th>\n",
       "      <th>Ticket</th>\n",
       "      <th>Fare</th>\n",
       "      <th>Cabin</th>\n",
       "      <th>Embarked</th>\n",
       "    </tr>\n",
       "  </thead>\n",
       "  <tbody>\n",
       "    <tr>\n",
       "      <th>0</th>\n",
       "      <td>1</td>\n",
       "      <td>0</td>\n",
       "      <td>3</td>\n",
       "      <td>Braund, Mr. Owen Harris</td>\n",
       "      <td>male</td>\n",
       "      <td>22.0</td>\n",
       "      <td>1</td>\n",
       "      <td>0</td>\n",
       "      <td>A/5 21171</td>\n",
       "      <td>7.2500</td>\n",
       "      <td>NaN</td>\n",
       "      <td>S</td>\n",
       "    </tr>\n",
       "    <tr>\n",
       "      <th>1</th>\n",
       "      <td>2</td>\n",
       "      <td>1</td>\n",
       "      <td>1</td>\n",
       "      <td>Cumings, Mrs. John Bradley (Florence Briggs Th...</td>\n",
       "      <td>female</td>\n",
       "      <td>38.0</td>\n",
       "      <td>1</td>\n",
       "      <td>0</td>\n",
       "      <td>PC 17599</td>\n",
       "      <td>71.2833</td>\n",
       "      <td>C85</td>\n",
       "      <td>C</td>\n",
       "    </tr>\n",
       "    <tr>\n",
       "      <th>2</th>\n",
       "      <td>3</td>\n",
       "      <td>1</td>\n",
       "      <td>3</td>\n",
       "      <td>Heikkinen, Miss. Laina</td>\n",
       "      <td>female</td>\n",
       "      <td>26.0</td>\n",
       "      <td>0</td>\n",
       "      <td>0</td>\n",
       "      <td>STON/O2. 3101282</td>\n",
       "      <td>7.9250</td>\n",
       "      <td>NaN</td>\n",
       "      <td>S</td>\n",
       "    </tr>\n",
       "    <tr>\n",
       "      <th>3</th>\n",
       "      <td>4</td>\n",
       "      <td>1</td>\n",
       "      <td>1</td>\n",
       "      <td>Futrelle, Mrs. Jacques Heath (Lily May Peel)</td>\n",
       "      <td>female</td>\n",
       "      <td>35.0</td>\n",
       "      <td>1</td>\n",
       "      <td>0</td>\n",
       "      <td>113803</td>\n",
       "      <td>53.1000</td>\n",
       "      <td>C123</td>\n",
       "      <td>S</td>\n",
       "    </tr>\n",
       "    <tr>\n",
       "      <th>4</th>\n",
       "      <td>5</td>\n",
       "      <td>0</td>\n",
       "      <td>3</td>\n",
       "      <td>Allen, Mr. William Henry</td>\n",
       "      <td>male</td>\n",
       "      <td>35.0</td>\n",
       "      <td>0</td>\n",
       "      <td>0</td>\n",
       "      <td>373450</td>\n",
       "      <td>8.0500</td>\n",
       "      <td>NaN</td>\n",
       "      <td>S</td>\n",
       "    </tr>\n",
       "  </tbody>\n",
       "</table>\n",
       "</div>"
      ],
      "text/plain": [
       "   PassengerId  Survived  Pclass  \\\n",
       "0            1         0       3   \n",
       "1            2         1       1   \n",
       "2            3         1       3   \n",
       "3            4         1       1   \n",
       "4            5         0       3   \n",
       "\n",
       "                                                Name     Sex   Age  SibSp  \\\n",
       "0                            Braund, Mr. Owen Harris    male  22.0      1   \n",
       "1  Cumings, Mrs. John Bradley (Florence Briggs Th...  female  38.0      1   \n",
       "2                             Heikkinen, Miss. Laina  female  26.0      0   \n",
       "3       Futrelle, Mrs. Jacques Heath (Lily May Peel)  female  35.0      1   \n",
       "4                           Allen, Mr. William Henry    male  35.0      0   \n",
       "\n",
       "   Parch            Ticket     Fare Cabin Embarked  \n",
       "0      0         A/5 21171   7.2500   NaN        S  \n",
       "1      0          PC 17599  71.2833   C85        C  \n",
       "2      0  STON/O2. 3101282   7.9250   NaN        S  \n",
       "3      0            113803  53.1000  C123        S  \n",
       "4      0            373450   8.0500   NaN        S  "
      ]
     },
     "execution_count": 707,
     "metadata": {},
     "output_type": "execute_result"
    }
   ],
   "source": [
    "df_procesado.head()"
   ]
  },
  {
   "cell_type": "markdown",
   "id": "2ff31673",
   "metadata": {},
   "source": [
    "## 2. estrategia para la columna Age (edad)"
   ]
  },
  {
   "cell_type": "markdown",
   "id": "6ea98bd0",
   "metadata": {},
   "source": [
    "se utilizara la mediana por que es la que permite encontrar el valor en el centro y para los datos que tenemos es la mas optima "
   ]
  },
  {
   "cell_type": "code",
   "execution_count": 708,
   "id": "57d60031",
   "metadata": {},
   "outputs": [
    {
     "name": "stdout",
     "output_type": "stream",
     "text": [
      "La mediana de la edad es: 28.0 años \n"
     ]
    }
   ],
   "source": [
    "# Seleccionas la columna 'Age' y luego calculas su mediana\n",
    "mediana_edad = df_procesado['Age'].median()\n",
    "\n",
    "print(f\"La mediana de la edad es: {mediana_edad} años \")\n",
    "\n",
    " # Es un atajo para df['Age'].median()\n",
    "# mediana_edad = df.Age.median()\n",
    "\n",
    " #print(f\"La mediana de la edad es: {mediana_edad}\")"
   ]
  },
  {
   "cell_type": "markdown",
   "id": "3e2c7ac4",
   "metadata": {},
   "source": [
    "#### rellenar los valores faltantes\n",
    "\n"
   ]
  },
  {
   "cell_type": "code",
   "execution_count": 709,
   "id": "f9eff9dc",
   "metadata": {},
   "outputs": [
    {
     "name": "stderr",
     "output_type": "stream",
     "text": [
      "C:\\Users\\PC\\AppData\\Local\\Temp\\ipykernel_19292\\1735000010.py:1: FutureWarning: A value is trying to be set on a copy of a DataFrame or Series through chained assignment using an inplace method.\n",
      "The behavior will change in pandas 3.0. This inplace method will never work because the intermediate object on which we are setting values always behaves as a copy.\n",
      "\n",
      "For example, when doing 'df[col].method(value, inplace=True)', try using 'df.method({col: value}, inplace=True)' or df[col] = df[col].method(value) instead, to perform the operation inplace on the original object.\n",
      "\n",
      "\n",
      "  df_procesado['Age'].fillna(value=mediana_edad, inplace = True)\n"
     ]
    }
   ],
   "source": [
    "df_procesado['Age'].fillna(value=mediana_edad, inplace = True)"
   ]
  },
  {
   "cell_type": "code",
   "execution_count": 710,
   "id": "235f4c0d",
   "metadata": {},
   "outputs": [
    {
     "data": {
      "text/plain": [
       "np.int64(0)"
      ]
     },
     "execution_count": 710,
     "metadata": {},
     "output_type": "execute_result"
    }
   ],
   "source": [
    "df_procesado['Age'].isnull().sum()"
   ]
  },
  {
   "cell_type": "markdown",
   "id": "4aa8691a",
   "metadata": {},
   "source": [
    "mostramos nuevamente los datos del dataSet despues de aplicar los cambios de llenar los valores faltantes en la columna Age con la mediana "
   ]
  },
  {
   "cell_type": "code",
   "execution_count": 711,
   "id": "9b593ed1",
   "metadata": {},
   "outputs": [
    {
     "name": "stdout",
     "output_type": "stream",
     "text": [
      "<class 'pandas.core.frame.DataFrame'>\n",
      "RangeIndex: 891 entries, 0 to 890\n",
      "Data columns (total 12 columns):\n",
      " #   Column       Non-Null Count  Dtype  \n",
      "---  ------       --------------  -----  \n",
      " 0   PassengerId  891 non-null    int64  \n",
      " 1   Survived     891 non-null    int64  \n",
      " 2   Pclass       891 non-null    int64  \n",
      " 3   Name         891 non-null    object \n",
      " 4   Sex          891 non-null    object \n",
      " 5   Age          891 non-null    float64\n",
      " 6   SibSp        891 non-null    int64  \n",
      " 7   Parch        891 non-null    int64  \n",
      " 8   Ticket       891 non-null    object \n",
      " 9   Fare         891 non-null    float64\n",
      " 10  Cabin        204 non-null    object \n",
      " 11  Embarked     889 non-null    object \n",
      "dtypes: float64(2), int64(5), object(5)\n",
      "memory usage: 83.7+ KB\n"
     ]
    }
   ],
   "source": [
    "df_procesado.info()"
   ]
  },
  {
   "cell_type": "markdown",
   "id": "a2055f62",
   "metadata": {},
   "source": [
    "## 3. estrategia de la columna cabin (camarote)"
   ]
  },
  {
   "cell_type": "markdown",
   "id": "92c89023",
   "metadata": {},
   "source": [
    "ya que la columna camarote puede tener relacion con la columna de la clase social, por lo cual no es muy recomendable borrarla \n",
    "\n",
    "lo que se va hacer es crear una nueva columna llamada tiene_camarote donde el valor 1 significa que si hay un dato en el camarote, donde 0 sea igual a que no tiene datos en el camarote si era nulo (null)"
   ]
  },
  {
   "cell_type": "code",
   "execution_count": 712,
   "id": "8d6ce32a",
   "metadata": {},
   "outputs": [],
   "source": [
    "df_procesado['tiene_Camarote'] = df_procesado['Cabin'].notnull().astype(int)"
   ]
  },
  {
   "cell_type": "code",
   "execution_count": 713,
   "id": "0e74716a",
   "metadata": {},
   "outputs": [
    {
     "name": "stdout",
     "output_type": "stream",
     "text": [
      "<class 'pandas.core.frame.DataFrame'>\n",
      "RangeIndex: 891 entries, 0 to 890\n",
      "Data columns (total 13 columns):\n",
      " #   Column          Non-Null Count  Dtype  \n",
      "---  ------          --------------  -----  \n",
      " 0   PassengerId     891 non-null    int64  \n",
      " 1   Survived        891 non-null    int64  \n",
      " 2   Pclass          891 non-null    int64  \n",
      " 3   Name            891 non-null    object \n",
      " 4   Sex             891 non-null    object \n",
      " 5   Age             891 non-null    float64\n",
      " 6   SibSp           891 non-null    int64  \n",
      " 7   Parch           891 non-null    int64  \n",
      " 8   Ticket          891 non-null    object \n",
      " 9   Fare            891 non-null    float64\n",
      " 10  Cabin           204 non-null    object \n",
      " 11  Embarked        889 non-null    object \n",
      " 12  tiene_Camarote  891 non-null    int64  \n",
      "dtypes: float64(2), int64(6), object(5)\n",
      "memory usage: 90.6+ KB\n"
     ]
    },
    {
     "data": {
      "text/html": [
       "<div>\n",
       "<style scoped>\n",
       "    .dataframe tbody tr th:only-of-type {\n",
       "        vertical-align: middle;\n",
       "    }\n",
       "\n",
       "    .dataframe tbody tr th {\n",
       "        vertical-align: top;\n",
       "    }\n",
       "\n",
       "    .dataframe thead th {\n",
       "        text-align: right;\n",
       "    }\n",
       "</style>\n",
       "<table border=\"1\" class=\"dataframe\">\n",
       "  <thead>\n",
       "    <tr style=\"text-align: right;\">\n",
       "      <th></th>\n",
       "      <th>PassengerId</th>\n",
       "      <th>Survived</th>\n",
       "      <th>Pclass</th>\n",
       "      <th>Name</th>\n",
       "      <th>Sex</th>\n",
       "      <th>Age</th>\n",
       "      <th>SibSp</th>\n",
       "      <th>Parch</th>\n",
       "      <th>Ticket</th>\n",
       "      <th>Fare</th>\n",
       "      <th>Cabin</th>\n",
       "      <th>Embarked</th>\n",
       "      <th>tiene_Camarote</th>\n",
       "    </tr>\n",
       "  </thead>\n",
       "  <tbody>\n",
       "    <tr>\n",
       "      <th>0</th>\n",
       "      <td>1</td>\n",
       "      <td>0</td>\n",
       "      <td>3</td>\n",
       "      <td>Braund, Mr. Owen Harris</td>\n",
       "      <td>male</td>\n",
       "      <td>22.0</td>\n",
       "      <td>1</td>\n",
       "      <td>0</td>\n",
       "      <td>A/5 21171</td>\n",
       "      <td>7.2500</td>\n",
       "      <td>NaN</td>\n",
       "      <td>S</td>\n",
       "      <td>0</td>\n",
       "    </tr>\n",
       "    <tr>\n",
       "      <th>1</th>\n",
       "      <td>2</td>\n",
       "      <td>1</td>\n",
       "      <td>1</td>\n",
       "      <td>Cumings, Mrs. John Bradley (Florence Briggs Th...</td>\n",
       "      <td>female</td>\n",
       "      <td>38.0</td>\n",
       "      <td>1</td>\n",
       "      <td>0</td>\n",
       "      <td>PC 17599</td>\n",
       "      <td>71.2833</td>\n",
       "      <td>C85</td>\n",
       "      <td>C</td>\n",
       "      <td>1</td>\n",
       "    </tr>\n",
       "    <tr>\n",
       "      <th>2</th>\n",
       "      <td>3</td>\n",
       "      <td>1</td>\n",
       "      <td>3</td>\n",
       "      <td>Heikkinen, Miss. Laina</td>\n",
       "      <td>female</td>\n",
       "      <td>26.0</td>\n",
       "      <td>0</td>\n",
       "      <td>0</td>\n",
       "      <td>STON/O2. 3101282</td>\n",
       "      <td>7.9250</td>\n",
       "      <td>NaN</td>\n",
       "      <td>S</td>\n",
       "      <td>0</td>\n",
       "    </tr>\n",
       "    <tr>\n",
       "      <th>3</th>\n",
       "      <td>4</td>\n",
       "      <td>1</td>\n",
       "      <td>1</td>\n",
       "      <td>Futrelle, Mrs. Jacques Heath (Lily May Peel)</td>\n",
       "      <td>female</td>\n",
       "      <td>35.0</td>\n",
       "      <td>1</td>\n",
       "      <td>0</td>\n",
       "      <td>113803</td>\n",
       "      <td>53.1000</td>\n",
       "      <td>C123</td>\n",
       "      <td>S</td>\n",
       "      <td>1</td>\n",
       "    </tr>\n",
       "    <tr>\n",
       "      <th>4</th>\n",
       "      <td>5</td>\n",
       "      <td>0</td>\n",
       "      <td>3</td>\n",
       "      <td>Allen, Mr. William Henry</td>\n",
       "      <td>male</td>\n",
       "      <td>35.0</td>\n",
       "      <td>0</td>\n",
       "      <td>0</td>\n",
       "      <td>373450</td>\n",
       "      <td>8.0500</td>\n",
       "      <td>NaN</td>\n",
       "      <td>S</td>\n",
       "      <td>0</td>\n",
       "    </tr>\n",
       "  </tbody>\n",
       "</table>\n",
       "</div>"
      ],
      "text/plain": [
       "   PassengerId  Survived  Pclass  \\\n",
       "0            1         0       3   \n",
       "1            2         1       1   \n",
       "2            3         1       3   \n",
       "3            4         1       1   \n",
       "4            5         0       3   \n",
       "\n",
       "                                                Name     Sex   Age  SibSp  \\\n",
       "0                            Braund, Mr. Owen Harris    male  22.0      1   \n",
       "1  Cumings, Mrs. John Bradley (Florence Briggs Th...  female  38.0      1   \n",
       "2                             Heikkinen, Miss. Laina  female  26.0      0   \n",
       "3       Futrelle, Mrs. Jacques Heath (Lily May Peel)  female  35.0      1   \n",
       "4                           Allen, Mr. William Henry    male  35.0      0   \n",
       "\n",
       "   Parch            Ticket     Fare Cabin Embarked  tiene_Camarote  \n",
       "0      0         A/5 21171   7.2500   NaN        S               0  \n",
       "1      0          PC 17599  71.2833   C85        C               1  \n",
       "2      0  STON/O2. 3101282   7.9250   NaN        S               0  \n",
       "3      0            113803  53.1000  C123        S               1  \n",
       "4      0            373450   8.0500   NaN        S               0  "
      ]
     },
     "execution_count": 713,
     "metadata": {},
     "output_type": "execute_result"
    }
   ],
   "source": [
    "df_procesado.info()\n",
    "\n",
    "df_procesado.head()"
   ]
  },
  {
   "cell_type": "markdown",
   "id": "2c61bc0c",
   "metadata": {},
   "source": [
    "borramos la columna cabin para evitar ruido en la data"
   ]
  },
  {
   "cell_type": "code",
   "execution_count": 714,
   "id": "36d44e40",
   "metadata": {},
   "outputs": [
    {
     "data": {
      "text/html": [
       "<div>\n",
       "<style scoped>\n",
       "    .dataframe tbody tr th:only-of-type {\n",
       "        vertical-align: middle;\n",
       "    }\n",
       "\n",
       "    .dataframe tbody tr th {\n",
       "        vertical-align: top;\n",
       "    }\n",
       "\n",
       "    .dataframe thead th {\n",
       "        text-align: right;\n",
       "    }\n",
       "</style>\n",
       "<table border=\"1\" class=\"dataframe\">\n",
       "  <thead>\n",
       "    <tr style=\"text-align: right;\">\n",
       "      <th></th>\n",
       "      <th>PassengerId</th>\n",
       "      <th>Survived</th>\n",
       "      <th>Pclass</th>\n",
       "      <th>Name</th>\n",
       "      <th>Sex</th>\n",
       "      <th>Age</th>\n",
       "      <th>SibSp</th>\n",
       "      <th>Parch</th>\n",
       "      <th>Ticket</th>\n",
       "      <th>Fare</th>\n",
       "      <th>Embarked</th>\n",
       "      <th>tiene_Camarote</th>\n",
       "    </tr>\n",
       "  </thead>\n",
       "  <tbody>\n",
       "    <tr>\n",
       "      <th>0</th>\n",
       "      <td>1</td>\n",
       "      <td>0</td>\n",
       "      <td>3</td>\n",
       "      <td>Braund, Mr. Owen Harris</td>\n",
       "      <td>male</td>\n",
       "      <td>22.0</td>\n",
       "      <td>1</td>\n",
       "      <td>0</td>\n",
       "      <td>A/5 21171</td>\n",
       "      <td>7.2500</td>\n",
       "      <td>S</td>\n",
       "      <td>0</td>\n",
       "    </tr>\n",
       "    <tr>\n",
       "      <th>1</th>\n",
       "      <td>2</td>\n",
       "      <td>1</td>\n",
       "      <td>1</td>\n",
       "      <td>Cumings, Mrs. John Bradley (Florence Briggs Th...</td>\n",
       "      <td>female</td>\n",
       "      <td>38.0</td>\n",
       "      <td>1</td>\n",
       "      <td>0</td>\n",
       "      <td>PC 17599</td>\n",
       "      <td>71.2833</td>\n",
       "      <td>C</td>\n",
       "      <td>1</td>\n",
       "    </tr>\n",
       "    <tr>\n",
       "      <th>2</th>\n",
       "      <td>3</td>\n",
       "      <td>1</td>\n",
       "      <td>3</td>\n",
       "      <td>Heikkinen, Miss. Laina</td>\n",
       "      <td>female</td>\n",
       "      <td>26.0</td>\n",
       "      <td>0</td>\n",
       "      <td>0</td>\n",
       "      <td>STON/O2. 3101282</td>\n",
       "      <td>7.9250</td>\n",
       "      <td>S</td>\n",
       "      <td>0</td>\n",
       "    </tr>\n",
       "    <tr>\n",
       "      <th>3</th>\n",
       "      <td>4</td>\n",
       "      <td>1</td>\n",
       "      <td>1</td>\n",
       "      <td>Futrelle, Mrs. Jacques Heath (Lily May Peel)</td>\n",
       "      <td>female</td>\n",
       "      <td>35.0</td>\n",
       "      <td>1</td>\n",
       "      <td>0</td>\n",
       "      <td>113803</td>\n",
       "      <td>53.1000</td>\n",
       "      <td>S</td>\n",
       "      <td>1</td>\n",
       "    </tr>\n",
       "    <tr>\n",
       "      <th>4</th>\n",
       "      <td>5</td>\n",
       "      <td>0</td>\n",
       "      <td>3</td>\n",
       "      <td>Allen, Mr. William Henry</td>\n",
       "      <td>male</td>\n",
       "      <td>35.0</td>\n",
       "      <td>0</td>\n",
       "      <td>0</td>\n",
       "      <td>373450</td>\n",
       "      <td>8.0500</td>\n",
       "      <td>S</td>\n",
       "      <td>0</td>\n",
       "    </tr>\n",
       "  </tbody>\n",
       "</table>\n",
       "</div>"
      ],
      "text/plain": [
       "   PassengerId  Survived  Pclass  \\\n",
       "0            1         0       3   \n",
       "1            2         1       1   \n",
       "2            3         1       3   \n",
       "3            4         1       1   \n",
       "4            5         0       3   \n",
       "\n",
       "                                                Name     Sex   Age  SibSp  \\\n",
       "0                            Braund, Mr. Owen Harris    male  22.0      1   \n",
       "1  Cumings, Mrs. John Bradley (Florence Briggs Th...  female  38.0      1   \n",
       "2                             Heikkinen, Miss. Laina  female  26.0      0   \n",
       "3       Futrelle, Mrs. Jacques Heath (Lily May Peel)  female  35.0      1   \n",
       "4                           Allen, Mr. William Henry    male  35.0      0   \n",
       "\n",
       "   Parch            Ticket     Fare Embarked  tiene_Camarote  \n",
       "0      0         A/5 21171   7.2500        S               0  \n",
       "1      0          PC 17599  71.2833        C               1  \n",
       "2      0  STON/O2. 3101282   7.9250        S               0  \n",
       "3      0            113803  53.1000        S               1  \n",
       "4      0            373450   8.0500        S               0  "
      ]
     },
     "execution_count": 714,
     "metadata": {},
     "output_type": "execute_result"
    }
   ],
   "source": [
    "df_procesado.drop('Cabin',axis=1, inplace= True)\n",
    "\n",
    "df_procesado.head()"
   ]
  },
  {
   "cell_type": "markdown",
   "id": "7ff51b3d",
   "metadata": {},
   "source": [
    "## 4. estrategia para columna embarked"
   ]
  },
  {
   "cell_type": "code",
   "execution_count": 715,
   "id": "30579f97",
   "metadata": {},
   "outputs": [
    {
     "name": "stdout",
     "output_type": "stream",
     "text": [
      " la moda es S\n"
     ]
    }
   ],
   "source": [
    "# saber cuales son los valores faltantes en la columna Embarked llenandola con la moda\n",
    "moda_Embarked = df_procesado['Embarked'].mode()[0]\n",
    "\n",
    "print(f\" la moda es {moda_Embarked}\")\n",
    "\n"
   ]
  },
  {
   "cell_type": "code",
   "execution_count": 716,
   "id": "a2780066",
   "metadata": {},
   "outputs": [
    {
     "name": "stdout",
     "output_type": "stream",
     "text": [
      "<class 'pandas.core.frame.DataFrame'>\n",
      "RangeIndex: 891 entries, 0 to 890\n",
      "Data columns (total 12 columns):\n",
      " #   Column          Non-Null Count  Dtype  \n",
      "---  ------          --------------  -----  \n",
      " 0   PassengerId     891 non-null    int64  \n",
      " 1   Survived        891 non-null    int64  \n",
      " 2   Pclass          891 non-null    int64  \n",
      " 3   Name            891 non-null    object \n",
      " 4   Sex             891 non-null    object \n",
      " 5   Age             891 non-null    float64\n",
      " 6   SibSp           891 non-null    int64  \n",
      " 7   Parch           891 non-null    int64  \n",
      " 8   Ticket          891 non-null    object \n",
      " 9   Fare            891 non-null    float64\n",
      " 10  Embarked        891 non-null    object \n",
      " 11  tiene_Camarote  891 non-null    int64  \n",
      "dtypes: float64(2), int64(6), object(4)\n",
      "memory usage: 83.7+ KB\n"
     ]
    },
    {
     "name": "stderr",
     "output_type": "stream",
     "text": [
      "C:\\Users\\PC\\AppData\\Local\\Temp\\ipykernel_19292\\1549376155.py:2: FutureWarning: A value is trying to be set on a copy of a DataFrame or Series through chained assignment using an inplace method.\n",
      "The behavior will change in pandas 3.0. This inplace method will never work because the intermediate object on which we are setting values always behaves as a copy.\n",
      "\n",
      "For example, when doing 'df[col].method(value, inplace=True)', try using 'df.method({col: value}, inplace=True)' or df[col] = df[col].method(value) instead, to perform the operation inplace on the original object.\n",
      "\n",
      "\n",
      "  df_procesado['Embarked'].fillna(value= moda_Embarked, inplace= True)\n"
     ]
    }
   ],
   "source": [
    "# llenar los datos faltantes con la moda \n",
    "df_procesado['Embarked'].fillna(value= moda_Embarked, inplace= True)\n",
    "\n",
    "\n",
    "df_procesado.info()"
   ]
  },
  {
   "cell_type": "markdown",
   "id": "e194cc46",
   "metadata": {},
   "source": [
    "creacion de la nueva columna llamada tiene familia "
   ]
  },
  {
   "cell_type": "code",
   "execution_count": 717,
   "id": "dac3558f",
   "metadata": {},
   "outputs": [
    {
     "name": "stdout",
     "output_type": "stream",
     "text": [
      "Creando la columna 'Tamaño_Familia'...\n",
      "¡Columna 'Tamaño_Familia' creada exitosamente!\n"
     ]
    },
    {
     "data": {
      "text/html": [
       "<div>\n",
       "<style scoped>\n",
       "    .dataframe tbody tr th:only-of-type {\n",
       "        vertical-align: middle;\n",
       "    }\n",
       "\n",
       "    .dataframe tbody tr th {\n",
       "        vertical-align: top;\n",
       "    }\n",
       "\n",
       "    .dataframe thead th {\n",
       "        text-align: right;\n",
       "    }\n",
       "</style>\n",
       "<table border=\"1\" class=\"dataframe\">\n",
       "  <thead>\n",
       "    <tr style=\"text-align: right;\">\n",
       "      <th></th>\n",
       "      <th>SibSp</th>\n",
       "      <th>Parch</th>\n",
       "      <th>Tamaño_Familia</th>\n",
       "    </tr>\n",
       "  </thead>\n",
       "  <tbody>\n",
       "    <tr>\n",
       "      <th>0</th>\n",
       "      <td>1</td>\n",
       "      <td>0</td>\n",
       "      <td>2</td>\n",
       "    </tr>\n",
       "    <tr>\n",
       "      <th>1</th>\n",
       "      <td>1</td>\n",
       "      <td>0</td>\n",
       "      <td>2</td>\n",
       "    </tr>\n",
       "    <tr>\n",
       "      <th>2</th>\n",
       "      <td>0</td>\n",
       "      <td>0</td>\n",
       "      <td>1</td>\n",
       "    </tr>\n",
       "    <tr>\n",
       "      <th>3</th>\n",
       "      <td>1</td>\n",
       "      <td>0</td>\n",
       "      <td>2</td>\n",
       "    </tr>\n",
       "    <tr>\n",
       "      <th>4</th>\n",
       "      <td>0</td>\n",
       "      <td>0</td>\n",
       "      <td>1</td>\n",
       "    </tr>\n",
       "  </tbody>\n",
       "</table>\n",
       "</div>"
      ],
      "text/plain": [
       "   SibSp  Parch  Tamaño_Familia\n",
       "0      1      0               2\n",
       "1      1      0               2\n",
       "2      0      0               1\n",
       "3      1      0               2\n",
       "4      0      0               1"
      ]
     },
     "execution_count": 717,
     "metadata": {},
     "output_type": "execute_result"
    }
   ],
   "source": [
    "# --- Celda Nueva: Ingeniería de Características ---\n",
    "\n",
    "print(\"Creando la columna 'Tamaño_Familia'...\")\n",
    "\n",
    "# Sumamos las columnas SibSp y Parch, y añadimos 1 (para contar al propio pasajero)\n",
    "df_procesado['Tamaño_Familia'] = df_procesado['SibSp'] + df_procesado['Parch'] + 1\n",
    "\n",
    "print(\"¡Columna 'Tamaño_Familia' creada exitosamente!\")\n",
    "\n",
    "# Verificamos las primeras filas para confirmar que se creó bien\n",
    "df_procesado[['SibSp', 'Parch', 'Tamaño_Familia']].head()"
   ]
  },
  {
   "cell_type": "markdown",
   "id": "d723b4cb",
   "metadata": {},
   "source": [
    "# fase 2 preparacion de datos para el analisis "
   ]
  },
  {
   "cell_type": "markdown",
   "id": "1e76eac9",
   "metadata": {},
   "source": [
    "Objetivo: Ahora que los datos están limpios, debemos \"traducirlos\" a un formato numérico que los futuros modelos de IA puedan procesar."
   ]
  },
  {
   "cell_type": "markdown",
   "id": "6bc7d44d",
   "metadata": {},
   "source": [
    "### 1.\tCodificación de Variables Categóricas: Las columnas Sex, Embarked y la nueva Tiene_Camarote son texto o categorías\n",
    "\n",
    "o\tAcción Requerida: Conviértelas en números. Te recomiendo usar One-Hot Encoding. En tu notebook, explica brevemente por qué esta técnica es preferible a simplemente asignar números como 0, 1, 2.\n"
   ]
  },
  {
   "cell_type": "code",
   "execution_count": 718,
   "id": "4a39a6b9",
   "metadata": {},
   "outputs": [],
   "source": [
    "# guardamos nuestro dataFrame procesado en una nueva variable para esta etapa \n",
    "# asi mantenemos el paso anterior guardado por si acaso\n",
    "\n",
    "df_codificado = df_procesado.copy()"
   ]
  },
  {
   "cell_type": "markdown",
   "id": "ae7a6f56",
   "metadata": {},
   "source": [
    "seleccionamos las colummnas a codificar "
   ]
  },
  {
   "cell_type": "code",
   "execution_count": 719,
   "id": "20551997",
   "metadata": {},
   "outputs": [],
   "source": [
    "columnas_categoricas = ['Sex','Embarked']"
   ]
  },
  {
   "cell_type": "markdown",
   "id": "bab2ff25",
   "metadata": {},
   "source": [
    "usamos pd.get_dummies para aplicar One_hot Encoding\n",
    "\n",
    "drop_first = True es una buena practica para evitar redundancia de datos"
   ]
  },
  {
   "cell_type": "code",
   "execution_count": 720,
   "id": "679f0f74",
   "metadata": {},
   "outputs": [],
   "source": [
    "df_codificado = pd.get_dummies(df_codificado, columns=columnas_categoricas, drop_first=True)"
   ]
  },
  {
   "cell_type": "markdown",
   "id": "15886b5a",
   "metadata": {},
   "source": [
    "convertir solo las nuevas columnas de tipo booleano (true/false) a enteros (1/0)\n"
   ]
  },
  {
   "cell_type": "code",
   "execution_count": 721,
   "id": "4f53ffc9",
   "metadata": {},
   "outputs": [],
   "source": [
    "for columna in df_codificado.columns:\n",
    "    if df_codificado[columna].dtype == 'bool':\n",
    "        df_codificado[columna]= df_codificado[columna].astype(int)"
   ]
  },
  {
   "cell_type": "markdown",
   "id": "837afcf3",
   "metadata": {},
   "source": [
    "eliminamos las columnas de texto que no aportan informacion util al modelo "
   ]
  },
  {
   "cell_type": "code",
   "execution_count": 722,
   "id": "9e09d9da",
   "metadata": {},
   "outputs": [],
   "source": [
    "df_codificado = df_codificado.drop(columns = ['PassengerId','Name','Ticket'])"
   ]
  },
  {
   "cell_type": "markdown",
   "id": "63dd2681",
   "metadata": {},
   "source": [
    "mostramoslos tipos de datos "
   ]
  },
  {
   "cell_type": "code",
   "execution_count": 723,
   "id": "000321b0",
   "metadata": {},
   "outputs": [
    {
     "name": "stdout",
     "output_type": "stream",
     "text": [
      " tipos de datos despues de la correccion\n",
      "<class 'pandas.core.frame.DataFrame'>\n",
      "RangeIndex: 891 entries, 0 to 890\n",
      "Data columns (total 11 columns):\n",
      " #   Column          Non-Null Count  Dtype  \n",
      "---  ------          --------------  -----  \n",
      " 0   Survived        891 non-null    int64  \n",
      " 1   Pclass          891 non-null    int64  \n",
      " 2   Age             891 non-null    float64\n",
      " 3   SibSp           891 non-null    int64  \n",
      " 4   Parch           891 non-null    int64  \n",
      " 5   Fare            891 non-null    float64\n",
      " 6   tiene_Camarote  891 non-null    int64  \n",
      " 7   Tamaño_Familia  891 non-null    int64  \n",
      " 8   Sex_male        891 non-null    int64  \n",
      " 9   Embarked_Q      891 non-null    int64  \n",
      " 10  Embarked_S      891 non-null    int64  \n",
      "dtypes: float64(2), int64(9)\n",
      "memory usage: 76.7 KB\n"
     ]
    }
   ],
   "source": [
    "print (\" tipos de datos despues de la correccion\")\n",
    "df_codificado.info()"
   ]
  },
  {
   "cell_type": "markdown",
   "id": "33aaf5d7",
   "metadata": {},
   "source": [
    "vista previa del data frame"
   ]
  },
  {
   "cell_type": "code",
   "execution_count": 724,
   "id": "1fa901e3",
   "metadata": {},
   "outputs": [
    {
     "name": "stdout",
     "output_type": "stream",
     "text": [
      "\n",
      " Vista previa del dataFrame final:\n"
     ]
    },
    {
     "data": {
      "text/html": [
       "<div>\n",
       "<style scoped>\n",
       "    .dataframe tbody tr th:only-of-type {\n",
       "        vertical-align: middle;\n",
       "    }\n",
       "\n",
       "    .dataframe tbody tr th {\n",
       "        vertical-align: top;\n",
       "    }\n",
       "\n",
       "    .dataframe thead th {\n",
       "        text-align: right;\n",
       "    }\n",
       "</style>\n",
       "<table border=\"1\" class=\"dataframe\">\n",
       "  <thead>\n",
       "    <tr style=\"text-align: right;\">\n",
       "      <th></th>\n",
       "      <th>Survived</th>\n",
       "      <th>Pclass</th>\n",
       "      <th>Age</th>\n",
       "      <th>SibSp</th>\n",
       "      <th>Parch</th>\n",
       "      <th>Fare</th>\n",
       "      <th>tiene_Camarote</th>\n",
       "      <th>Tamaño_Familia</th>\n",
       "      <th>Sex_male</th>\n",
       "      <th>Embarked_Q</th>\n",
       "      <th>Embarked_S</th>\n",
       "    </tr>\n",
       "  </thead>\n",
       "  <tbody>\n",
       "    <tr>\n",
       "      <th>0</th>\n",
       "      <td>0</td>\n",
       "      <td>3</td>\n",
       "      <td>22.0</td>\n",
       "      <td>1</td>\n",
       "      <td>0</td>\n",
       "      <td>7.2500</td>\n",
       "      <td>0</td>\n",
       "      <td>2</td>\n",
       "      <td>1</td>\n",
       "      <td>0</td>\n",
       "      <td>1</td>\n",
       "    </tr>\n",
       "    <tr>\n",
       "      <th>1</th>\n",
       "      <td>1</td>\n",
       "      <td>1</td>\n",
       "      <td>38.0</td>\n",
       "      <td>1</td>\n",
       "      <td>0</td>\n",
       "      <td>71.2833</td>\n",
       "      <td>1</td>\n",
       "      <td>2</td>\n",
       "      <td>0</td>\n",
       "      <td>0</td>\n",
       "      <td>0</td>\n",
       "    </tr>\n",
       "    <tr>\n",
       "      <th>2</th>\n",
       "      <td>1</td>\n",
       "      <td>3</td>\n",
       "      <td>26.0</td>\n",
       "      <td>0</td>\n",
       "      <td>0</td>\n",
       "      <td>7.9250</td>\n",
       "      <td>0</td>\n",
       "      <td>1</td>\n",
       "      <td>0</td>\n",
       "      <td>0</td>\n",
       "      <td>1</td>\n",
       "    </tr>\n",
       "    <tr>\n",
       "      <th>3</th>\n",
       "      <td>1</td>\n",
       "      <td>1</td>\n",
       "      <td>35.0</td>\n",
       "      <td>1</td>\n",
       "      <td>0</td>\n",
       "      <td>53.1000</td>\n",
       "      <td>1</td>\n",
       "      <td>2</td>\n",
       "      <td>0</td>\n",
       "      <td>0</td>\n",
       "      <td>1</td>\n",
       "    </tr>\n",
       "    <tr>\n",
       "      <th>4</th>\n",
       "      <td>0</td>\n",
       "      <td>3</td>\n",
       "      <td>35.0</td>\n",
       "      <td>0</td>\n",
       "      <td>0</td>\n",
       "      <td>8.0500</td>\n",
       "      <td>0</td>\n",
       "      <td>1</td>\n",
       "      <td>1</td>\n",
       "      <td>0</td>\n",
       "      <td>1</td>\n",
       "    </tr>\n",
       "  </tbody>\n",
       "</table>\n",
       "</div>"
      ],
      "text/plain": [
       "   Survived  Pclass   Age  SibSp  Parch     Fare  tiene_Camarote  \\\n",
       "0         0       3  22.0      1      0   7.2500               0   \n",
       "1         1       1  38.0      1      0  71.2833               1   \n",
       "2         1       3  26.0      0      0   7.9250               0   \n",
       "3         1       1  35.0      1      0  53.1000               1   \n",
       "4         0       3  35.0      0      0   8.0500               0   \n",
       "\n",
       "   Tamaño_Familia  Sex_male  Embarked_Q  Embarked_S  \n",
       "0               2         1           0           1  \n",
       "1               2         0           0           0  \n",
       "2               1         0           0           1  \n",
       "3               2         0           0           1  \n",
       "4               1         1           0           1  "
      ]
     },
     "execution_count": 724,
     "metadata": {},
     "output_type": "execute_result"
    }
   ],
   "source": [
    "print(\"\\n Vista previa del dataFrame final:\")\n",
    "df_codificado.head()"
   ]
  },
  {
   "cell_type": "markdown",
   "id": "fdb747b9",
   "metadata": {},
   "source": [
    "### 2. Escalado de Variables Numéricas: Las columnas como Age y Fare (Tarifa) se miden en escalas muy diferentes.\n",
    "o\tAcción Requerida: Aplica un escalado para estandarizarlas. Usa el StandardScaler que vimos en los ejemplos.\n"
   ]
  },
  {
   "cell_type": "code",
   "execution_count": 725,
   "id": "bfbc8c88",
   "metadata": {},
   "outputs": [],
   "source": [
    "# hacemos una copia para este paso final \n",
    "df_escalado = df_codificado.copy()"
   ]
  },
  {
   "cell_type": "code",
   "execution_count": 726,
   "id": "a07cddf6",
   "metadata": {},
   "outputs": [],
   "source": [
    "# lista de columnas numericas (incluyendo las que ya eran numeros y las creadas )\n",
    "\n",
    "columnas_numericas = ['Age','Fare','Pclass','SibSp','Parch','Tamaño_Familia']\n",
    "\n"
   ]
  },
  {
   "cell_type": "markdown",
   "id": "b8df1b29",
   "metadata": {},
   "source": [
    "ahora creamos una \"instancia\" del escalador y le decimos que aprenda de nuestros datos y los transforme"
   ]
  },
  {
   "cell_type": "code",
   "execution_count": 727,
   "id": "682ebba8",
   "metadata": {},
   "outputs": [],
   "source": [
    "#creamos el objeto escalador\n",
    "\n",
    "scaler = StandardScaler()"
   ]
  },
  {
   "cell_type": "code",
   "execution_count": 728,
   "id": "4665e920",
   "metadata": {},
   "outputs": [],
   "source": [
    "#\n",
    "\n",
    "df_escalado[columnas_numericas] = scaler.fit_transform(df_escalado[columnas_numericas])"
   ]
  },
  {
   "cell_type": "code",
   "execution_count": 729,
   "id": "ab6ed01d",
   "metadata": {},
   "outputs": [
    {
     "data": {
      "text/html": [
       "<div>\n",
       "<style scoped>\n",
       "    .dataframe tbody tr th:only-of-type {\n",
       "        vertical-align: middle;\n",
       "    }\n",
       "\n",
       "    .dataframe tbody tr th {\n",
       "        vertical-align: top;\n",
       "    }\n",
       "\n",
       "    .dataframe thead th {\n",
       "        text-align: right;\n",
       "    }\n",
       "</style>\n",
       "<table border=\"1\" class=\"dataframe\">\n",
       "  <thead>\n",
       "    <tr style=\"text-align: right;\">\n",
       "      <th></th>\n",
       "      <th>Survived</th>\n",
       "      <th>Pclass</th>\n",
       "      <th>Age</th>\n",
       "      <th>SibSp</th>\n",
       "      <th>Parch</th>\n",
       "      <th>Fare</th>\n",
       "      <th>tiene_Camarote</th>\n",
       "      <th>Tamaño_Familia</th>\n",
       "      <th>Sex_male</th>\n",
       "      <th>Embarked_Q</th>\n",
       "      <th>Embarked_S</th>\n",
       "    </tr>\n",
       "  </thead>\n",
       "  <tbody>\n",
       "    <tr>\n",
       "      <th>0</th>\n",
       "      <td>0</td>\n",
       "      <td>0.827377</td>\n",
       "      <td>-0.565736</td>\n",
       "      <td>0.432793</td>\n",
       "      <td>-0.473674</td>\n",
       "      <td>-0.502445</td>\n",
       "      <td>0</td>\n",
       "      <td>0.059160</td>\n",
       "      <td>1</td>\n",
       "      <td>0</td>\n",
       "      <td>1</td>\n",
       "    </tr>\n",
       "    <tr>\n",
       "      <th>1</th>\n",
       "      <td>1</td>\n",
       "      <td>-1.566107</td>\n",
       "      <td>0.663861</td>\n",
       "      <td>0.432793</td>\n",
       "      <td>-0.473674</td>\n",
       "      <td>0.786845</td>\n",
       "      <td>1</td>\n",
       "      <td>0.059160</td>\n",
       "      <td>0</td>\n",
       "      <td>0</td>\n",
       "      <td>0</td>\n",
       "    </tr>\n",
       "    <tr>\n",
       "      <th>2</th>\n",
       "      <td>1</td>\n",
       "      <td>0.827377</td>\n",
       "      <td>-0.258337</td>\n",
       "      <td>-0.474545</td>\n",
       "      <td>-0.473674</td>\n",
       "      <td>-0.488854</td>\n",
       "      <td>0</td>\n",
       "      <td>-0.560975</td>\n",
       "      <td>0</td>\n",
       "      <td>0</td>\n",
       "      <td>1</td>\n",
       "    </tr>\n",
       "    <tr>\n",
       "      <th>3</th>\n",
       "      <td>1</td>\n",
       "      <td>-1.566107</td>\n",
       "      <td>0.433312</td>\n",
       "      <td>0.432793</td>\n",
       "      <td>-0.473674</td>\n",
       "      <td>0.420730</td>\n",
       "      <td>1</td>\n",
       "      <td>0.059160</td>\n",
       "      <td>0</td>\n",
       "      <td>0</td>\n",
       "      <td>1</td>\n",
       "    </tr>\n",
       "    <tr>\n",
       "      <th>4</th>\n",
       "      <td>0</td>\n",
       "      <td>0.827377</td>\n",
       "      <td>0.433312</td>\n",
       "      <td>-0.474545</td>\n",
       "      <td>-0.473674</td>\n",
       "      <td>-0.486337</td>\n",
       "      <td>0</td>\n",
       "      <td>-0.560975</td>\n",
       "      <td>1</td>\n",
       "      <td>0</td>\n",
       "      <td>1</td>\n",
       "    </tr>\n",
       "  </tbody>\n",
       "</table>\n",
       "</div>"
      ],
      "text/plain": [
       "   Survived    Pclass       Age     SibSp     Parch      Fare  tiene_Camarote  \\\n",
       "0         0  0.827377 -0.565736  0.432793 -0.473674 -0.502445               0   \n",
       "1         1 -1.566107  0.663861  0.432793 -0.473674  0.786845               1   \n",
       "2         1  0.827377 -0.258337 -0.474545 -0.473674 -0.488854               0   \n",
       "3         1 -1.566107  0.433312  0.432793 -0.473674  0.420730               1   \n",
       "4         0  0.827377  0.433312 -0.474545 -0.473674 -0.486337               0   \n",
       "\n",
       "   Tamaño_Familia  Sex_male  Embarked_Q  Embarked_S  \n",
       "0        0.059160         1           0           1  \n",
       "1        0.059160         0           0           0  \n",
       "2       -0.560975         0           0           1  \n",
       "3        0.059160         0           0           1  \n",
       "4       -0.560975         1           0           1  "
      ]
     },
     "execution_count": 729,
     "metadata": {},
     "output_type": "execute_result"
    }
   ],
   "source": [
    "df_escalado.head()"
   ]
  },
  {
   "cell_type": "markdown",
   "id": "291a9b06",
   "metadata": {},
   "source": [
    "## Fase 3: Creación de un Pipeline de Preprocesamiento (Relacionado con 3. pipelines_preprocesamiento.ipynb)\n",
    "Objetivo: Tu trabajo hasta ahora es excelente, pero es manual. Necesitamos un proceso automatizado y profesional que podamos reutilizar.\n"
   ]
  },
  {
   "cell_type": "markdown",
   "id": "179aa2c3",
   "metadata": {},
   "source": [
    "1.\tConstruir el Pipeline de Preprocesamiento: Usando Pipeline y ColumnTransformer de Scikit-learn, crea un único objeto preprocessor que ejecute todas las acciones de las Fases 1 y 2 de forma automática (rellenar nulos de Age y Embarked, codificar las variables categóricas, y escalar las numéricas). Este es el paso más avanzado, ¡demuéstranos tu habilidad!"
   ]
  },
  {
   "cell_type": "code",
   "execution_count": 730,
   "id": "7917b62b",
   "metadata": {},
   "outputs": [],
   "source": [
    "# nuestros datos ORIGINALES\n",
    "\n",
    "df_para_pipeline = df_raw.copy()"
   ]
  },
  {
   "cell_type": "markdown",
   "id": "8da6af19",
   "metadata": {},
   "source": [
    "### definir las columnas por tipo \n",
    "\n",
    "Primero, le decimos a nuestro \"director de orquesta\" (ColumnTransformer) qué columnas son de qué tipo para que sepa qué hacer con cada una."
   ]
  },
  {
   "cell_type": "code",
   "execution_count": 731,
   "id": "f9b1b8a9",
   "metadata": {},
   "outputs": [],
   "source": [
    "# Lista de columnas numéricas que procesaremos\n",
    "numeric_features = ['Age', 'Fare', 'SibSp', 'Parch', 'Pclass', 'Tamaño_Familia'] \n",
    "# (Asumimos que ya creaste Tamaño_Familia, si no, puedes añadirla ahora)\n",
    "\n",
    "# Lista de columnas categóricas que procesaremos\n",
    "categorical_features = ['Embarked', 'Sex']"
   ]
  },
  {
   "cell_type": "markdown",
   "id": "ab5e7c2f",
   "metadata": {},
   "source": [
    "### Paso 3: Crear el Pipeline para las Columnas Numéricas\n",
    "\n",
    "Le diremos que para cualquier columna numérica, primero rellene los nulos con la mediana y luego la escale."
   ]
  },
  {
   "cell_type": "code",
   "execution_count": 732,
   "id": "8df90029",
   "metadata": {},
   "outputs": [],
   "source": [
    "# Creamos el transformador para datos numéricos\n",
    "numeric_transformer = Pipeline(steps=[\n",
    "    ('imputer', SimpleImputer(strategy='median')),  # Paso 1: Rellenar nulos con la mediana\n",
    "    ('scaler', StandardScaler())                    # Paso 2: Escalar los datos\n",
    "])"
   ]
  },
  {
   "cell_type": "markdown",
   "id": "826470b7",
   "metadata": {},
   "source": [
    "## Paso 4: Crear el Pipeline para las Columnas Categóricas\n",
    "\n",
    "Le diremos que para cualquier columna categórica, primero rellene los nulos con la moda y luego aplique One-Hot Encoding"
   ]
  },
  {
   "cell_type": "code",
   "execution_count": 733,
   "id": "7fb9f216",
   "metadata": {},
   "outputs": [],
   "source": [
    "# Creamos el transformador para datos categóricos\n",
    "categorical_transformer = Pipeline(steps=[\n",
    "    ('imputer', SimpleImputer(strategy='most_frequent')),  # Paso 1: Rellenar nulos con la moda\n",
    "    ('onehot', OneHotEncoder(handle_unknown='ignore', drop='first'))  # Paso 2: Aplicar One-Hot Encoding\n",
    "])"
   ]
  },
  {
   "cell_type": "markdown",
   "id": "8c3f64c7",
   "metadata": {},
   "source": [
    "### Paso 5: Ensamblar Todo con ColumnTransformer (El Director de Orquesta)"
   ]
  },
  {
   "cell_type": "code",
   "execution_count": 734,
   "id": "34c6cafb",
   "metadata": {},
   "outputs": [],
   "source": [
    "# Creamos el preprocesador que une los transformadores numéricos y categóricos\n",
    "preprocessor = ColumnTransformer(\n",
    "    transformers=[\n",
    "        ('num', numeric_transformer, numeric_features),\n",
    "        ('cat', categorical_transformer, categorical_features)\n",
    "    ],\n",
    "    remainder='passthrough' # Le decimos que las columnas no especificadas (ej. Survived) las deje como están\n",
    ")"
   ]
  },
  {
   "cell_type": "markdown",
   "id": "dbeac79b",
   "metadata": {},
   "source": [
    "## uso del pipeline \n"
   ]
  },
  {
   "cell_type": "code",
   "execution_count": 735,
   "id": "789c33ee",
   "metadata": {},
   "outputs": [
    {
     "name": "stdout",
     "output_type": "stream",
     "text": [
      "Dimensiones de los datos preparados: (891, 9)\n"
     ]
    }
   ],
   "source": [
    "# Separamos las características (X) de nuestro objetivo (y) del dataframe original\n",
    "# Vamos a dropear columnas que no son características predictivas\n",
    "df_final = df_para_pipeline.drop(columns=['Name', 'Ticket', 'Cabin', 'PassengerId'])\n",
    "# Creamos la columna Tamaño_Familia si no lo hicimos antes\n",
    "if 'Tamaño_Familia' not in df_final.columns:\n",
    "    df_final['Tamaño_Familia'] = df_final['SibSp'] + df_final['Parch'] + 1\n",
    "\n",
    "\n",
    "X = df_final.drop('Survived', axis=1)\n",
    "y = df_final['Survived']\n",
    "\n",
    "# Aplicamos TODO el preprocesamiento a nuestros datos con UNA SOLA LÍNEA\n",
    "X_preparado = preprocessor.fit_transform(X)\n",
    "\n",
    "# X_preparado es ahora un array de NumPy con todos nuestros datos limpios,\n",
    "# codificados, escalados y listos para un modelo.\n",
    "print(\"Dimensiones de los datos preparados:\", X_preparado.shape)"
   ]
  }
 ],
 "metadata": {
  "kernelspec": {
   "display_name": ".venv",
   "language": "python",
   "name": "python3"
  },
  "language_info": {
   "codemirror_mode": {
    "name": "ipython",
    "version": 3
   },
   "file_extension": ".py",
   "mimetype": "text/x-python",
   "name": "python",
   "nbconvert_exporter": "python",
   "pygments_lexer": "ipython3",
   "version": "3.13.5"
  }
 },
 "nbformat": 4,
 "nbformat_minor": 5
}
